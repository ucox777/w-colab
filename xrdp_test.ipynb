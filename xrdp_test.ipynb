{
  "nbformat": 4,
  "nbformat_minor": 0,
  "metadata": {
    "colab": {
      "private_outputs": true,
      "provenance": [],
      "name": "xrdp test",
      "include_colab_link": true
    },
    "kernelspec": {
      "name": "python3",
      "display_name": "Python 3"
    },
    "language_info": {
      "name": "python"
    }
  },
  "cells": [
    {
      "cell_type": "markdown",
      "metadata": {
        "id": "view-in-github",
        "colab_type": "text"
      },
      "source": [
        "<a href=\"https://colab.research.google.com/github/ucox777/w-colab/blob/main/xrdp_test.ipynb\" target=\"_parent\"><img src=\"https://colab.research.google.com/assets/colab-badge.svg\" alt=\"Open In Colab\"/></a>"
      ]
    },
    {
      "cell_type": "code",
      "metadata": {
        "id": "t4yNp3KmLtZ6",
        "cellView": "form"
      },
      "source": [
        "#@title **Create User**\n",
        "import os\n",
        "username = \"google\" #@param {type:\"string\"}\n",
        "password = \"123456\" #@param {type:\"string\"}\n",
        "\n",
        "print(\"Creating User and Setting it up\")\n",
        "\n",
        "# Creat user\n",
        "os.system(f\"useradd -m {username}\")\n",
        "\n",
        "# Add user to sudo group\n",
        "os.system(f\"adduser {username} sudo\")\n",
        "    \n",
        "# Set password user to 'root'\n",
        "os.system(f\"echo '{username}:{password}' | sudo chpasswd\")\n",
        "\n",
        "# Change default shell from sh to bash\n",
        "os.system(\"sed -i 's/\\/bin\\/sh/\\/bin\\/bash/g' /etc/passwd\")\n",
        "\n",
        "print(\"User Created and Configured\")"
      ],
      "execution_count": null,
      "outputs": []
    },
    {
      "cell_type": "code",
      "metadata": {
        "cellView": "form",
        "id": "B9qlI8Fr4nr1"
      },
      "source": [
        "#@title **Google Drive Mount**\n",
        "\n",
        "from google.colab import drive\n",
        "drive.mount('/content/drive')"
      ],
      "execution_count": null,
      "outputs": []
    },
    {
      "cell_type": "code",
      "metadata": {
        "id": "vk2qtOTGIFsQ"
      },
      "source": [
        "#@title **Start RDP**\n",
        "#@markdown <font color=\"red\">WARNING...!!</font><br>Before executing add your region and authtoken <br>Example: <br> &emsp;./start.sh us  AjDX3LdWKsdFslf...<br><br> Get Authtoken Ngrok: [Click here](https://dashboard.ngrok.com/get-started/your-authtoken)<br>\n",
        "#@markdown List Region Ngrok: us, eu, ap, au, sa, jp, id<br> us = United States (Ohio)<br> eu = Europe (Frankfurt)<br>  ap = Asia/Pacific (Singapore)<br> au = Australia (Sydney)<br> sa = South America (Sao Paulo)<br>  jp = Japan (Tokyo)<br>  in = India (Mumbai)\n",
        "! rm -rf start.sh\n",
        "! wget https://raw.githubusercontent.com/ucox777/w-colab/main/xface4/start.sh > /dev/null 2>&1\n",
        "! chmod +x start.sh\n",
        "#Edit first \n",
        "! ./start.sh your_region your_authoken"
      ],
      "execution_count": null,
      "outputs": []
    }
  ]
}